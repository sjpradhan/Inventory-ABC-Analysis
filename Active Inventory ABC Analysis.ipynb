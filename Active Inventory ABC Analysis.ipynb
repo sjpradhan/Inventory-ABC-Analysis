{
 "cells": [
  {
   "cell_type": "markdown",
   "id": "7fc1d7f0",
   "metadata": {},
   "source": [
    "## Import Libraries:"
   ]
  },
  {
   "cell_type": "code",
   "execution_count": 1,
   "id": "3fa54522",
   "metadata": {},
   "outputs": [],
   "source": [
    "import pandas as pd\n",
    "import matplotlib.pyplot as plt\n",
    "pd.set_option('display.max_rows',500)\n",
    "import warnings  \n",
    "warnings.filterwarnings('ignore')\n",
    "import seaborn as sns\n",
    "import numpy as np"
   ]
  },
  {
   "cell_type": "markdown",
   "id": "0826a956",
   "metadata": {},
   "source": [
    "## Import Dataset:"
   ]
  },
  {
   "cell_type": "code",
   "execution_count": 2,
   "id": "ec47472a",
   "metadata": {},
   "outputs": [],
   "source": [
    "order_history = pd.read_csv(r\"D:\\DATA ANALYSIS\\Practice Projects\\Inventory analysis\\order_history.csv\")\n",
    "stock = pd.read_csv(r\"D:\\DATA ANALYSIS\\Practice Projects\\Inventory analysis\\stock.csv\")"
   ]
  },
  {
   "cell_type": "markdown",
   "id": "d394b6df",
   "metadata": {},
   "source": [
    "## Data Manipulation:"
   ]
  },
  {
   "cell_type": "code",
   "execution_count": 3,
   "id": "951a6043",
   "metadata": {},
   "outputs": [
    {
     "data": {
      "text/html": [
       "<div>\n",
       "<style scoped>\n",
       "    .dataframe tbody tr th:only-of-type {\n",
       "        vertical-align: middle;\n",
       "    }\n",
       "\n",
       "    .dataframe tbody tr th {\n",
       "        vertical-align: top;\n",
       "    }\n",
       "\n",
       "    .dataframe thead th {\n",
       "        text-align: right;\n",
       "    }\n",
       "</style>\n",
       "<table border=\"1\" class=\"dataframe\">\n",
       "  <thead>\n",
       "    <tr style=\"text-align: right;\">\n",
       "      <th></th>\n",
       "      <th>Order Date</th>\n",
       "      <th>SKU ID</th>\n",
       "      <th>Order Quantity</th>\n",
       "    </tr>\n",
       "  </thead>\n",
       "  <tbody>\n",
       "    <tr>\n",
       "      <th>0</th>\n",
       "      <td>21-07-2022</td>\n",
       "      <td>2418CA</td>\n",
       "      <td>111770.0</td>\n",
       "    </tr>\n",
       "    <tr>\n",
       "      <th>1</th>\n",
       "      <td>22-08-2022</td>\n",
       "      <td>2483BA</td>\n",
       "      <td>88200.0</td>\n",
       "    </tr>\n",
       "    <tr>\n",
       "      <th>2</th>\n",
       "      <td>05-05-2022</td>\n",
       "      <td>2391CA</td>\n",
       "      <td>80574.0</td>\n",
       "    </tr>\n",
       "    <tr>\n",
       "      <th>3</th>\n",
       "      <td>17-03-2023</td>\n",
       "      <td>2473CA</td>\n",
       "      <td>69415.0</td>\n",
       "    </tr>\n",
       "    <tr>\n",
       "      <th>4</th>\n",
       "      <td>19-01-2023</td>\n",
       "      <td>2396CA</td>\n",
       "      <td>62000.0</td>\n",
       "    </tr>\n",
       "  </tbody>\n",
       "</table>\n",
       "</div>"
      ],
      "text/plain": [
       "   Order Date  SKU ID  Order Quantity\n",
       "0  21-07-2022  2418CA        111770.0\n",
       "1  22-08-2022  2483BA         88200.0\n",
       "2  05-05-2022  2391CA         80574.0\n",
       "3  17-03-2023  2473CA         69415.0\n",
       "4  19-01-2023  2396CA         62000.0"
      ]
     },
     "execution_count": 3,
     "metadata": {},
     "output_type": "execute_result"
    }
   ],
   "source": [
    "order_history.head()"
   ]
  },
  {
   "cell_type": "code",
   "execution_count": 4,
   "id": "b4a28564",
   "metadata": {},
   "outputs": [
    {
     "data": {
      "text/html": [
       "<div>\n",
       "<style scoped>\n",
       "    .dataframe tbody tr th:only-of-type {\n",
       "        vertical-align: middle;\n",
       "    }\n",
       "\n",
       "    .dataframe tbody tr th {\n",
       "        vertical-align: top;\n",
       "    }\n",
       "\n",
       "    .dataframe thead th {\n",
       "        text-align: right;\n",
       "    }\n",
       "</style>\n",
       "<table border=\"1\" class=\"dataframe\">\n",
       "  <thead>\n",
       "    <tr style=\"text-align: right;\">\n",
       "      <th></th>\n",
       "      <th>SKU ID</th>\n",
       "      <th>Current Stock Quantity</th>\n",
       "      <th>Units (Nos/Kg)</th>\n",
       "      <th>Average Lead Time (days)</th>\n",
       "      <th>Maximum Lead Time (days)</th>\n",
       "      <th>Unit Price</th>\n",
       "    </tr>\n",
       "  </thead>\n",
       "  <tbody>\n",
       "    <tr>\n",
       "      <th>0</th>\n",
       "      <td>1009AA</td>\n",
       "      <td>7210.0</td>\n",
       "      <td>Kg</td>\n",
       "      <td>30</td>\n",
       "      <td>48</td>\n",
       "      <td>28.76326</td>\n",
       "    </tr>\n",
       "    <tr>\n",
       "      <th>1</th>\n",
       "      <td>1077CA</td>\n",
       "      <td>46516.0</td>\n",
       "      <td>Kg</td>\n",
       "      <td>45</td>\n",
       "      <td>70</td>\n",
       "      <td>22.97770</td>\n",
       "    </tr>\n",
       "    <tr>\n",
       "      <th>2</th>\n",
       "      <td>1083AA</td>\n",
       "      <td>48210.0</td>\n",
       "      <td>Kg</td>\n",
       "      <td>45</td>\n",
       "      <td>68</td>\n",
       "      <td>29.02000</td>\n",
       "    </tr>\n",
       "    <tr>\n",
       "      <th>3</th>\n",
       "      <td>1116CA</td>\n",
       "      <td>33398.0</td>\n",
       "      <td>Kg</td>\n",
       "      <td>90</td>\n",
       "      <td>140</td>\n",
       "      <td>32.80000</td>\n",
       "    </tr>\n",
       "    <tr>\n",
       "      <th>4</th>\n",
       "      <td>1126CA</td>\n",
       "      <td>39270.0</td>\n",
       "      <td>Kg</td>\n",
       "      <td>45</td>\n",
       "      <td>62</td>\n",
       "      <td>32.80000</td>\n",
       "    </tr>\n",
       "  </tbody>\n",
       "</table>\n",
       "</div>"
      ],
      "text/plain": [
       "   SKU ID  Current Stock Quantity Units (Nos/Kg)  Average Lead Time (days)  \\\n",
       "0  1009AA                  7210.0             Kg                        30   \n",
       "1  1077CA                 46516.0             Kg                        45   \n",
       "2  1083AA                 48210.0             Kg                        45   \n",
       "3  1116CA                 33398.0             Kg                        90   \n",
       "4  1126CA                 39270.0             Kg                        45   \n",
       "\n",
       "   Maximum Lead Time (days)  Unit Price  \n",
       "0                        48    28.76326  \n",
       "1                        70    22.97770  \n",
       "2                        68    29.02000  \n",
       "3                       140    32.80000  \n",
       "4                        62    32.80000  "
      ]
     },
     "execution_count": 4,
     "metadata": {},
     "output_type": "execute_result"
    }
   ],
   "source": [
    "stock.head()"
   ]
  },
  {
   "cell_type": "code",
   "execution_count": 5,
   "id": "fb359233",
   "metadata": {},
   "outputs": [],
   "source": [
    "# Join two dataset based on the SKU ID\n",
    "new_df=order_history.merge(stock,on = 'SKU ID',how = 'inner')"
   ]
  },
  {
   "cell_type": "code",
   "execution_count": 6,
   "id": "1d5fe273",
   "metadata": {},
   "outputs": [
    {
     "data": {
      "text/html": [
       "<div>\n",
       "<style scoped>\n",
       "    .dataframe tbody tr th:only-of-type {\n",
       "        vertical-align: middle;\n",
       "    }\n",
       "\n",
       "    .dataframe tbody tr th {\n",
       "        vertical-align: top;\n",
       "    }\n",
       "\n",
       "    .dataframe thead th {\n",
       "        text-align: right;\n",
       "    }\n",
       "</style>\n",
       "<table border=\"1\" class=\"dataframe\">\n",
       "  <thead>\n",
       "    <tr style=\"text-align: right;\">\n",
       "      <th></th>\n",
       "      <th>Order Date</th>\n",
       "      <th>SKU ID</th>\n",
       "      <th>Order Quantity</th>\n",
       "      <th>Current Stock Quantity</th>\n",
       "      <th>Units (Nos/Kg)</th>\n",
       "      <th>Average Lead Time (days)</th>\n",
       "      <th>Maximum Lead Time (days)</th>\n",
       "      <th>Unit Price</th>\n",
       "    </tr>\n",
       "  </thead>\n",
       "  <tbody>\n",
       "    <tr>\n",
       "      <th>0</th>\n",
       "      <td>21-07-2022</td>\n",
       "      <td>2418CA</td>\n",
       "      <td>111770.00000</td>\n",
       "      <td>120860.0</td>\n",
       "      <td>Kg</td>\n",
       "      <td>60</td>\n",
       "      <td>85</td>\n",
       "      <td>5.8</td>\n",
       "    </tr>\n",
       "    <tr>\n",
       "      <th>1</th>\n",
       "      <td>06-01-2023</td>\n",
       "      <td>2418CA</td>\n",
       "      <td>17810.98366</td>\n",
       "      <td>120860.0</td>\n",
       "      <td>Kg</td>\n",
       "      <td>60</td>\n",
       "      <td>85</td>\n",
       "      <td>5.8</td>\n",
       "    </tr>\n",
       "    <tr>\n",
       "      <th>2</th>\n",
       "      <td>28-09-2022</td>\n",
       "      <td>2418CA</td>\n",
       "      <td>17721.53196</td>\n",
       "      <td>120860.0</td>\n",
       "      <td>Kg</td>\n",
       "      <td>60</td>\n",
       "      <td>85</td>\n",
       "      <td>5.8</td>\n",
       "    </tr>\n",
       "    <tr>\n",
       "      <th>3</th>\n",
       "      <td>08-04-2023</td>\n",
       "      <td>2418CA</td>\n",
       "      <td>17569.55249</td>\n",
       "      <td>120860.0</td>\n",
       "      <td>Kg</td>\n",
       "      <td>60</td>\n",
       "      <td>85</td>\n",
       "      <td>5.8</td>\n",
       "    </tr>\n",
       "    <tr>\n",
       "      <th>4</th>\n",
       "      <td>07-01-2023</td>\n",
       "      <td>2418CA</td>\n",
       "      <td>17511.38021</td>\n",
       "      <td>120860.0</td>\n",
       "      <td>Kg</td>\n",
       "      <td>60</td>\n",
       "      <td>85</td>\n",
       "      <td>5.8</td>\n",
       "    </tr>\n",
       "  </tbody>\n",
       "</table>\n",
       "</div>"
      ],
      "text/plain": [
       "   Order Date  SKU ID  Order Quantity  Current Stock Quantity Units (Nos/Kg)  \\\n",
       "0  21-07-2022  2418CA    111770.00000                120860.0             Kg   \n",
       "1  06-01-2023  2418CA     17810.98366                120860.0             Kg   \n",
       "2  28-09-2022  2418CA     17721.53196                120860.0             Kg   \n",
       "3  08-04-2023  2418CA     17569.55249                120860.0             Kg   \n",
       "4  07-01-2023  2418CA     17511.38021                120860.0             Kg   \n",
       "\n",
       "   Average Lead Time (days)  Maximum Lead Time (days)  Unit Price  \n",
       "0                        60                        85         5.8  \n",
       "1                        60                        85         5.8  \n",
       "2                        60                        85         5.8  \n",
       "3                        60                        85         5.8  \n",
       "4                        60                        85         5.8  "
      ]
     },
     "execution_count": 6,
     "metadata": {},
     "output_type": "execute_result"
    }
   ],
   "source": [
    "new_df.head()"
   ]
  },
  {
   "cell_type": "code",
   "execution_count": 7,
   "id": "ebd48266",
   "metadata": {},
   "outputs": [
    {
     "data": {
      "text/plain": [
       "(33919, 8)"
      ]
     },
     "execution_count": 7,
     "metadata": {},
     "output_type": "execute_result"
    }
   ],
   "source": [
    "new_df.shape"
   ]
  },
  {
   "cell_type": "code",
   "execution_count": 8,
   "id": "2ef6c000",
   "metadata": {},
   "outputs": [
    {
     "data": {
      "text/plain": [
       "Order Date                  0\n",
       "SKU ID                      0\n",
       "Order Quantity              0\n",
       "Current Stock Quantity      0\n",
       "Units (Nos/Kg)              0\n",
       "Average Lead Time (days)    0\n",
       "Maximum Lead Time (days)    0\n",
       "Unit Price                  0\n",
       "dtype: int64"
      ]
     },
     "execution_count": 8,
     "metadata": {},
     "output_type": "execute_result"
    }
   ],
   "source": [
    "new_df.isnull().sum()"
   ]
  },
  {
   "cell_type": "code",
   "execution_count": 9,
   "id": "fb984b51",
   "metadata": {},
   "outputs": [
    {
     "name": "stdout",
     "output_type": "stream",
     "text": [
      "<class 'pandas.core.frame.DataFrame'>\n",
      "Int64Index: 33919 entries, 0 to 33918\n",
      "Data columns (total 8 columns):\n",
      " #   Column                    Non-Null Count  Dtype  \n",
      "---  ------                    --------------  -----  \n",
      " 0   Order Date                33919 non-null  object \n",
      " 1   SKU ID                    33919 non-null  object \n",
      " 2   Order Quantity            33919 non-null  float64\n",
      " 3   Current Stock Quantity    33919 non-null  float64\n",
      " 4   Units (Nos/Kg)            33919 non-null  object \n",
      " 5   Average Lead Time (days)  33919 non-null  int64  \n",
      " 6   Maximum Lead Time (days)  33919 non-null  int64  \n",
      " 7   Unit Price                33919 non-null  float64\n",
      "dtypes: float64(3), int64(2), object(3)\n",
      "memory usage: 2.3+ MB\n"
     ]
    }
   ],
   "source": [
    "new_df.info()"
   ]
  },
  {
   "cell_type": "code",
   "execution_count": 10,
   "id": "2e67614c",
   "metadata": {},
   "outputs": [],
   "source": [
    "# Convert 'Order Date' column to datetime\n",
    "new_df['Order Date'] = pd.to_datetime(new_df['Order Date'])"
   ]
  },
  {
   "cell_type": "markdown",
   "id": "58cfc173",
   "metadata": {},
   "source": [
    "### Duplicated Values Explanation:\n",
    "\n",
    "- The dataset initially showed 320 entries flagged as duplicated.\n",
    "- Upon reviewing the DataFrame rows, it was observed that these entries aren't considered duplicates.\n",
    "- Reasoning behind this includes the transactions being identical but with differing order dates.\n",
    "- Each entry represents a distinct transaction despite similarities in other attributes.\n",
    "- Therefore, these entries, although appearing similar, are not considered duplicates based on the contextual significance of differing order dates."
   ]
  },
  {
   "cell_type": "code",
   "execution_count": 11,
   "id": "975cabc2",
   "metadata": {},
   "outputs": [
    {
     "data": {
      "text/plain": [
       "320"
      ]
     },
     "execution_count": 11,
     "metadata": {},
     "output_type": "execute_result"
    }
   ],
   "source": [
    "new_df.duplicated().sum()"
   ]
  },
  {
   "cell_type": "code",
   "execution_count": 12,
   "id": "52ea815e",
   "metadata": {},
   "outputs": [
    {
     "data": {
      "text/html": [
       "<div>\n",
       "<style scoped>\n",
       "    .dataframe tbody tr th:only-of-type {\n",
       "        vertical-align: middle;\n",
       "    }\n",
       "\n",
       "    .dataframe tbody tr th {\n",
       "        vertical-align: top;\n",
       "    }\n",
       "\n",
       "    .dataframe thead th {\n",
       "        text-align: right;\n",
       "    }\n",
       "</style>\n",
       "<table border=\"1\" class=\"dataframe\">\n",
       "  <thead>\n",
       "    <tr style=\"text-align: right;\">\n",
       "      <th></th>\n",
       "      <th>Order Date</th>\n",
       "      <th>SKU ID</th>\n",
       "      <th>Order Quantity</th>\n",
       "      <th>Current Stock Quantity</th>\n",
       "      <th>Units (Nos/Kg)</th>\n",
       "      <th>Average Lead Time (days)</th>\n",
       "      <th>Maximum Lead Time (days)</th>\n",
       "      <th>Unit Price</th>\n",
       "    </tr>\n",
       "  </thead>\n",
       "  <tbody>\n",
       "    <tr>\n",
       "      <th>985</th>\n",
       "      <td>2023-04-22</td>\n",
       "      <td>3533CA</td>\n",
       "      <td>1000.0</td>\n",
       "      <td>82476.0</td>\n",
       "      <td>Kg</td>\n",
       "      <td>40</td>\n",
       "      <td>64</td>\n",
       "      <td>0.64377</td>\n",
       "    </tr>\n",
       "    <tr>\n",
       "      <th>1623</th>\n",
       "      <td>2023-08-02</td>\n",
       "      <td>3461CA</td>\n",
       "      <td>5.0</td>\n",
       "      <td>177.0</td>\n",
       "      <td>Kg</td>\n",
       "      <td>15</td>\n",
       "      <td>23</td>\n",
       "      <td>30.06400</td>\n",
       "    </tr>\n",
       "    <tr>\n",
       "      <th>1661</th>\n",
       "      <td>2022-02-23</td>\n",
       "      <td>3461CA</td>\n",
       "      <td>3.0</td>\n",
       "      <td>177.0</td>\n",
       "      <td>Kg</td>\n",
       "      <td>15</td>\n",
       "      <td>23</td>\n",
       "      <td>30.06400</td>\n",
       "    </tr>\n",
       "    <tr>\n",
       "      <th>1673</th>\n",
       "      <td>2023-10-01</td>\n",
       "      <td>3461CA</td>\n",
       "      <td>2.0</td>\n",
       "      <td>177.0</td>\n",
       "      <td>Kg</td>\n",
       "      <td>15</td>\n",
       "      <td>23</td>\n",
       "      <td>30.06400</td>\n",
       "    </tr>\n",
       "    <tr>\n",
       "      <th>1696</th>\n",
       "      <td>2022-04-15</td>\n",
       "      <td>3461CA</td>\n",
       "      <td>1.0</td>\n",
       "      <td>177.0</td>\n",
       "      <td>Kg</td>\n",
       "      <td>15</td>\n",
       "      <td>23</td>\n",
       "      <td>30.06400</td>\n",
       "    </tr>\n",
       "  </tbody>\n",
       "</table>\n",
       "</div>"
      ],
      "text/plain": [
       "     Order Date  SKU ID  Order Quantity  Current Stock Quantity  \\\n",
       "985  2023-04-22  3533CA          1000.0                 82476.0   \n",
       "1623 2023-08-02  3461CA             5.0                   177.0   \n",
       "1661 2022-02-23  3461CA             3.0                   177.0   \n",
       "1673 2023-10-01  3461CA             2.0                   177.0   \n",
       "1696 2022-04-15  3461CA             1.0                   177.0   \n",
       "\n",
       "     Units (Nos/Kg)  Average Lead Time (days)  Maximum Lead Time (days)  \\\n",
       "985              Kg                        40                        64   \n",
       "1623             Kg                        15                        23   \n",
       "1661             Kg                        15                        23   \n",
       "1673             Kg                        15                        23   \n",
       "1696             Kg                        15                        23   \n",
       "\n",
       "      Unit Price  \n",
       "985      0.64377  \n",
       "1623    30.06400  \n",
       "1661    30.06400  \n",
       "1673    30.06400  \n",
       "1696    30.06400  "
      ]
     },
     "execution_count": 12,
     "metadata": {},
     "output_type": "execute_result"
    }
   ],
   "source": [
    "# Inspecting rows visually\n",
    "new_df[new_df.duplicated()].head()"
   ]
  },
  {
   "cell_type": "code",
   "execution_count": 13,
   "id": "671674d3",
   "metadata": {},
   "outputs": [
    {
     "name": "stdout",
     "output_type": "stream",
     "text": [
      "Total SKU: 290\n"
     ]
    }
   ],
   "source": [
    "# Cheking Number Of Unique SKU\n",
    "total_sku=new_df['SKU ID'].nunique()\n",
    "print('Total SKU:',total_sku)"
   ]
  },
  {
   "cell_type": "markdown",
   "id": "113cead1",
   "metadata": {},
   "source": [
    "## Statistical Summary:"
   ]
  },
  {
   "cell_type": "markdown",
   "id": "cdd72514",
   "metadata": {},
   "source": [
    "## Insights:\n",
    "\n",
    "- The data ranges for 'Order Quantity' and 'Current Stock Quantity' show a wide variability.\n",
    "- 'Unit Price' has a significantly high standard deviation, suggesting considerable variability in pricing.\n",
    "- The lead times show moderate variability, with average lead time centered around 49.14 days."
   ]
  },
  {
   "cell_type": "code",
   "execution_count": 14,
   "id": "aac4de3d",
   "metadata": {},
   "outputs": [
    {
     "data": {
      "text/html": [
       "<div>\n",
       "<style scoped>\n",
       "    .dataframe tbody tr th:only-of-type {\n",
       "        vertical-align: middle;\n",
       "    }\n",
       "\n",
       "    .dataframe tbody tr th {\n",
       "        vertical-align: top;\n",
       "    }\n",
       "\n",
       "    .dataframe thead th {\n",
       "        text-align: right;\n",
       "    }\n",
       "</style>\n",
       "<table border=\"1\" class=\"dataframe\">\n",
       "  <thead>\n",
       "    <tr style=\"text-align: right;\">\n",
       "      <th></th>\n",
       "      <th>Order Quantity</th>\n",
       "      <th>Current Stock Quantity</th>\n",
       "      <th>Average Lead Time (days)</th>\n",
       "      <th>Maximum Lead Time (days)</th>\n",
       "      <th>Unit Price</th>\n",
       "    </tr>\n",
       "  </thead>\n",
       "  <tbody>\n",
       "    <tr>\n",
       "      <th>count</th>\n",
       "      <td>33919.000000</td>\n",
       "      <td>33919.000000</td>\n",
       "      <td>33919.000000</td>\n",
       "      <td>33919.000000</td>\n",
       "      <td>33919.000000</td>\n",
       "    </tr>\n",
       "    <tr>\n",
       "      <th>mean</th>\n",
       "      <td>432.793196</td>\n",
       "      <td>6512.076261</td>\n",
       "      <td>49.140894</td>\n",
       "      <td>71.515611</td>\n",
       "      <td>4659.335657</td>\n",
       "    </tr>\n",
       "    <tr>\n",
       "      <th>std</th>\n",
       "      <td>2382.904837</td>\n",
       "      <td>20959.970639</td>\n",
       "      <td>29.304755</td>\n",
       "      <td>42.386331</td>\n",
       "      <td>20140.347333</td>\n",
       "    </tr>\n",
       "    <tr>\n",
       "      <th>min</th>\n",
       "      <td>0.000015</td>\n",
       "      <td>0.000000</td>\n",
       "      <td>15.000000</td>\n",
       "      <td>20.000000</td>\n",
       "      <td>0.102950</td>\n",
       "    </tr>\n",
       "    <tr>\n",
       "      <th>25%</th>\n",
       "      <td>2.000000</td>\n",
       "      <td>17.000000</td>\n",
       "      <td>30.000000</td>\n",
       "      <td>42.000000</td>\n",
       "      <td>30.000000</td>\n",
       "    </tr>\n",
       "    <tr>\n",
       "      <th>50%</th>\n",
       "      <td>6.000000</td>\n",
       "      <td>218.000000</td>\n",
       "      <td>45.000000</td>\n",
       "      <td>63.000000</td>\n",
       "      <td>73.000000</td>\n",
       "    </tr>\n",
       "    <tr>\n",
       "      <th>75%</th>\n",
       "      <td>36.294959</td>\n",
       "      <td>1565.000000</td>\n",
       "      <td>60.000000</td>\n",
       "      <td>91.000000</td>\n",
       "      <td>740.820000</td>\n",
       "    </tr>\n",
       "    <tr>\n",
       "      <th>max</th>\n",
       "      <td>111770.000000</td>\n",
       "      <td>342553.000000</td>\n",
       "      <td>120.000000</td>\n",
       "      <td>192.000000</td>\n",
       "      <td>175000.000000</td>\n",
       "    </tr>\n",
       "  </tbody>\n",
       "</table>\n",
       "</div>"
      ],
      "text/plain": [
       "       Order Quantity  Current Stock Quantity  Average Lead Time (days)  \\\n",
       "count    33919.000000            33919.000000              33919.000000   \n",
       "mean       432.793196             6512.076261                 49.140894   \n",
       "std       2382.904837            20959.970639                 29.304755   \n",
       "min          0.000015                0.000000                 15.000000   \n",
       "25%          2.000000               17.000000                 30.000000   \n",
       "50%          6.000000              218.000000                 45.000000   \n",
       "75%         36.294959             1565.000000                 60.000000   \n",
       "max     111770.000000           342553.000000                120.000000   \n",
       "\n",
       "       Maximum Lead Time (days)     Unit Price  \n",
       "count              33919.000000   33919.000000  \n",
       "mean                  71.515611    4659.335657  \n",
       "std                   42.386331   20140.347333  \n",
       "min                   20.000000       0.102950  \n",
       "25%                   42.000000      30.000000  \n",
       "50%                   63.000000      73.000000  \n",
       "75%                   91.000000     740.820000  \n",
       "max                  192.000000  175000.000000  "
      ]
     },
     "execution_count": 14,
     "metadata": {},
     "output_type": "execute_result"
    }
   ],
   "source": [
    "new_df.describe()"
   ]
  },
  {
   "cell_type": "markdown",
   "id": "ce7833c9",
   "metadata": {},
   "source": [
    "##### Strong positive correlation (values closer to 1):\n",
    "\n",
    "- Order Quantity and Current Stock Quantity have a relatively strong positive correlation (0.512249).\n",
    "- Average Lead Time and Maximum Lead Time also exhibit a strong positive correlation (0.991660).\n",
    "\n",
    "##### Weak correlations (values closer to 0):\n",
    "\n",
    "- Order Quantity and Average Lead Time or Maximum Lead Time'have relatively weak positive correlations (0.026115 and 0.033360, respectively).\n",
    "- Current Stock Quantity and Average Lead Time or Maximum Lead Time also display relatively weak positive correlations (0.030141 and 0.039341, respectively).\n",
    "- Order Quantity and Unit Price show a weak negative correlation (-0.041703).\n",
    "- Current Stock Quantity and Unit Price display a weak negative correlation (-0.071328).\n",
    "######\n",
    "- It's important to note that correlation does not imply causation, and a correlation close to 1 or -1 does not necessarily mean a cause-and-effect relationship. It only signifies the strength and direction of the linear relationship between variables. Additionally, correlations might not capture complex or non-linear relationships between the variables."
   ]
  },
  {
   "cell_type": "code",
   "execution_count": 15,
   "id": "43a09d58",
   "metadata": {},
   "outputs": [
    {
     "data": {
      "image/png": "[encoded data removed]",
      "text/plain": [
       "<Figure size 600x400 with 2 Axes>"
      ]
     },
     "metadata": {},
     "output_type": "display_data"
    }
   ],
   "source": [
    "plt.figure(figsize=(6,4))\n",
    "sns.heatmap(new_df.corr(),annot = True);"
   ]
  },
  {
   "cell_type": "code",
   "execution_count": 16,
   "id": "2e30e728",
   "metadata": {},
   "outputs": [
    {
     "data": {
      "image/png": "[encoded data removed]",
      "text/plain": [
       "<Figure size 1200x400 with 1 Axes>"
      ]
     },
     "metadata": {},
     "output_type": "display_data"
    }
   ],
   "source": [
    "plt.figure(figsize=(12,4))\n",
    "new_df.boxplot(column=['Order Quantity', 'Current Stock Quantity', 'Average Lead Time (days)', 'Maximum Lead Time (days)', 'Unit Price'])\n",
    "plt.title('Boxplot of Numerical Attributes')\n",
    "plt.grid(False)\n",
    "plt.show()"
   ]
  },
  {
   "cell_type": "markdown",
   "id": "bab441eb",
   "metadata": {},
   "source": [
    "## ABC Analysis:\n",
    "- Certainly! ABC analysis is a technique used in inventory management to categorize items based on their importance. It classifies items into three categories: A, B, and C, with A being the most valuable or important and C being the least. The categorization is typically based on criteria like value, usage, or other important factors."
   ]
  },
  {
   "cell_type": "code",
   "execution_count": 17,
   "id": "5b3b430c",
   "metadata": {},
   "outputs": [],
   "source": [
    "new_df['active_inventory_cost'] = new_df['Current Stock Quantity'] * new_df['Unit Price']\n",
    "\n",
    "new_df.sort_values(by=['active_inventory_cost'],ascending = False, inplace = True)\n",
    "\n",
    "new_df['cumulative_cost'] = new_df['active_inventory_cost'].cumsum()\n",
    "\n",
    "new_df['total_cost'] = new_df['active_inventory_cost'].sum()\n",
    "\n",
    "new_df['cumulative_percentage'] = new_df['cumulative_cost'] / new_df['total_cost']"
   ]
  },
  {
   "cell_type": "code",
   "execution_count": 18,
   "id": "01ac267b",
   "metadata": {},
   "outputs": [
    {
     "data": {
      "text/html": [
       "<div>\n",
       "<style scoped>\n",
       "    .dataframe tbody tr th:only-of-type {\n",
       "        vertical-align: middle;\n",
       "    }\n",
       "\n",
       "    .dataframe tbody tr th {\n",
       "        vertical-align: top;\n",
       "    }\n",
       "\n",
       "    .dataframe thead th {\n",
       "        text-align: right;\n",
       "    }\n",
       "</style>\n",
       "<table border=\"1\" class=\"dataframe\">\n",
       "  <thead>\n",
       "    <tr style=\"text-align: right;\">\n",
       "      <th></th>\n",
       "      <th>Order Date</th>\n",
       "      <th>SKU ID</th>\n",
       "      <th>Order Quantity</th>\n",
       "      <th>Current Stock Quantity</th>\n",
       "      <th>Units (Nos/Kg)</th>\n",
       "      <th>Average Lead Time (days)</th>\n",
       "      <th>Maximum Lead Time (days)</th>\n",
       "      <th>Unit Price</th>\n",
       "      <th>active_inventory_cost</th>\n",
       "      <th>cumulative_cost</th>\n",
       "      <th>total_cost</th>\n",
       "      <th>cumulative_percentage</th>\n",
       "    </tr>\n",
       "  </thead>\n",
       "  <tbody>\n",
       "    <tr>\n",
       "      <th>7964</th>\n",
       "      <td>2022-05-08</td>\n",
       "      <td>2766AA</td>\n",
       "      <td>25.0</td>\n",
       "      <td>7502.0</td>\n",
       "      <td>Kg</td>\n",
       "      <td>90</td>\n",
       "      <td>126</td>\n",
       "      <td>363.83238</td>\n",
       "      <td>2.729471e+06</td>\n",
       "      <td>2.729471e+06</td>\n",
       "      <td>7.877493e+09</td>\n",
       "      <td>0.000346</td>\n",
       "    </tr>\n",
       "    <tr>\n",
       "      <th>7951</th>\n",
       "      <td>2022-06-13</td>\n",
       "      <td>2766AA</td>\n",
       "      <td>128.0</td>\n",
       "      <td>7502.0</td>\n",
       "      <td>Kg</td>\n",
       "      <td>90</td>\n",
       "      <td>126</td>\n",
       "      <td>363.83238</td>\n",
       "      <td>2.729471e+06</td>\n",
       "      <td>5.458941e+06</td>\n",
       "      <td>7.877493e+09</td>\n",
       "      <td>0.000693</td>\n",
       "    </tr>\n",
       "    <tr>\n",
       "      <th>7953</th>\n",
       "      <td>2022-06-17</td>\n",
       "      <td>2766AA</td>\n",
       "      <td>118.0</td>\n",
       "      <td>7502.0</td>\n",
       "      <td>Kg</td>\n",
       "      <td>90</td>\n",
       "      <td>126</td>\n",
       "      <td>363.83238</td>\n",
       "      <td>2.729471e+06</td>\n",
       "      <td>8.188412e+06</td>\n",
       "      <td>7.877493e+09</td>\n",
       "      <td>0.001039</td>\n",
       "    </tr>\n",
       "    <tr>\n",
       "      <th>7954</th>\n",
       "      <td>2023-05-29</td>\n",
       "      <td>2766AA</td>\n",
       "      <td>80.0</td>\n",
       "      <td>7502.0</td>\n",
       "      <td>Kg</td>\n",
       "      <td>90</td>\n",
       "      <td>126</td>\n",
       "      <td>363.83238</td>\n",
       "      <td>2.729471e+06</td>\n",
       "      <td>1.091788e+07</td>\n",
       "      <td>7.877493e+09</td>\n",
       "      <td>0.001386</td>\n",
       "    </tr>\n",
       "    <tr>\n",
       "      <th>7955</th>\n",
       "      <td>2022-03-25</td>\n",
       "      <td>2766AA</td>\n",
       "      <td>71.0</td>\n",
       "      <td>7502.0</td>\n",
       "      <td>Kg</td>\n",
       "      <td>90</td>\n",
       "      <td>126</td>\n",
       "      <td>363.83238</td>\n",
       "      <td>2.729471e+06</td>\n",
       "      <td>1.364735e+07</td>\n",
       "      <td>7.877493e+09</td>\n",
       "      <td>0.001732</td>\n",
       "    </tr>\n",
       "  </tbody>\n",
       "</table>\n",
       "</div>"
      ],
      "text/plain": [
       "     Order Date  SKU ID  Order Quantity  Current Stock Quantity  \\\n",
       "7964 2022-05-08  2766AA            25.0                  7502.0   \n",
       "7951 2022-06-13  2766AA           128.0                  7502.0   \n",
       "7953 2022-06-17  2766AA           118.0                  7502.0   \n",
       "7954 2023-05-29  2766AA            80.0                  7502.0   \n",
       "7955 2022-03-25  2766AA            71.0                  7502.0   \n",
       "\n",
       "     Units (Nos/Kg)  Average Lead Time (days)  Maximum Lead Time (days)  \\\n",
       "7964             Kg                        90                       126   \n",
       "7951             Kg                        90                       126   \n",
       "7953             Kg                        90                       126   \n",
       "7954             Kg                        90                       126   \n",
       "7955             Kg                        90                       126   \n",
       "\n",
       "      Unit Price  active_inventory_cost  cumulative_cost    total_cost  \\\n",
       "7964   363.83238           2.729471e+06     2.729471e+06  7.877493e+09   \n",
       "7951   363.83238           2.729471e+06     5.458941e+06  7.877493e+09   \n",
       "7953   363.83238           2.729471e+06     8.188412e+06  7.877493e+09   \n",
       "7954   363.83238           2.729471e+06     1.091788e+07  7.877493e+09   \n",
       "7955   363.83238           2.729471e+06     1.364735e+07  7.877493e+09   \n",
       "\n",
       "      cumulative_percentage  \n",
       "7964               0.000346  \n",
       "7951               0.000693  \n",
       "7953               0.001039  \n",
       "7954               0.001386  \n",
       "7955               0.001732  "
      ]
     },
     "execution_count": 18,
     "metadata": {},
     "output_type": "execute_result"
    }
   ],
   "source": [
    "new_df.head()"
   ]
  },
  {
   "cell_type": "markdown",
   "id": "d795b1ad",
   "metadata": {},
   "source": [
    "__Categories inventory products into 3 classes A, B, and C based on cum_percentage distribution__\n",
    "<br>\n",
    "- A Class holds 70 % of inventory cost.\n",
    "- B Class holds 20 % of inventory cost.\n",
    "- C Class holds 10 % of inventory cost."
   ]
  },
  {
   "cell_type": "code",
   "execution_count": 19,
   "id": "02965e7f",
   "metadata": {},
   "outputs": [],
   "source": [
    "new_df['class'] ='C'\n",
    "new_df.loc[new_df['cumulative_percentage']<= 0.70,'class'] = 'A'\n",
    "new_df.loc[(new_df['cumulative_percentage']> 0.70) & (new_df['cumulative_percentage']<= 0.90),'class']  ='B'"
   ]
  },
  {
   "cell_type": "markdown",
   "id": "ba70e862",
   "metadata": {},
   "source": [
    "- The distribution of items across the classes indicates that a larger portion of inventory product falls into the 'C' category, which are typically less critical or lower-value items. Where a smaller proportion of items are categorized as 'A', representing the most critical and valuable items, while 'C' represents the least critical or low-value items."
   ]
  },
  {
   "cell_type": "code",
   "execution_count": 20,
   "id": "1d3013b0",
   "metadata": {},
   "outputs": [
    {
     "data": {
      "text/plain": [
       "C    24178\n",
       "B     5026\n",
       "A     4715\n",
       "Name: class, dtype: int64"
      ]
     },
     "execution_count": 20,
     "metadata": {},
     "output_type": "execute_result"
    }
   ],
   "source": [
    "new_df['class'].value_counts()"
   ]
  },
  {
   "cell_type": "markdown",
   "id": "7165d0e0",
   "metadata": {},
   "source": [
    "## Insights:\n",
    "\n",
    "- The highest cost is attributed to Class A items, which represent approximately 70% of the total cost. While they contribute significantly to the cost, they don't constitute the largest share in quantity.\n",
    "<br>\n",
    "\n",
    "- Class A items represent around 37.6% of the total quantity, while Class C represents a similar quantity share at around 37.49%. Class B items are slightly lower, around 24.96%.\n",
    "<br>\n",
    "\n",
    "- The management focus should primarily be on Class A items due to their significant cost impact, despite not constituting the largest quantity share. Optimizing, monitoring, and efficiently managing Class A items can yield substantial cost-saving benefits.\n",
    "<br>\n",
    "\n",
    "| Class | Total SKUs | Total Cost ($) | Quantity Percentage | Cost Percentage |\n",
    "|-------|------------|----------------|---------------------|-----------------|\n",
    "| A     | 4715       | 5,513,932,007.89| 37.60%              | 69.99%          |\n",
    "| B     | 5026       | 1,575,717,472.34| 24.96%              | 20.00%          |\n",
    "| C     | 24178      |   787,843,518.18| 37.49%              | 10.01%          |\n",
    "| Total | 33919      | 7,877,493,998.41| 100.00%             | 100.00%         |\n"
   ]
  },
  {
   "cell_type": "code",
   "execution_count": 21,
   "id": "7871a2e9",
   "metadata": {},
   "outputs": [
    {
     "name": "stdout",
     "output_type": "stream",
     "text": [
      "Class A Cost: 5513932007.893688\n",
      "Class B Cost: 1575717472.344418\n",
      "Class C Cost: 787843518.1835439\n"
     ]
    }
   ],
   "source": [
    "# Total cost holding by each class\n",
    "print('Class A Cost:',new_df[new_df['class']=='A']['active_inventory_cost'].sum())\n",
    "print('Class B Cost:',new_df[new_df['class']=='B']['active_inventory_cost'].sum())\n",
    "print('Class C Cost:',new_df[new_df['class']=='C']['active_inventory_cost'].sum())"
   ]
  },
  {
   "cell_type": "code",
   "execution_count": 22,
   "id": "adc7aaf1",
   "metadata": {},
   "outputs": [
    {
     "name": "stdout",
     "output_type": "stream",
     "text": [
      "Class A Cost: 0.6999602549946372\n",
      "Class B Cost: 0.20002778455787035\n",
      "Class C Cost: 0.10001196044749233\n"
     ]
    }
   ],
   "source": [
    "# Total cost holding by each class in percentage\n",
    "print('Class A Cost:',new_df[new_df['class']=='A']['active_inventory_cost'].sum()/new_df['active_inventory_cost'].sum())\n",
    "print('Class B Cost:',new_df[new_df['class']=='B']['active_inventory_cost'].sum()/new_df['active_inventory_cost'].sum())\n",
    "print('Class C Cost:',new_df[new_df['class']=='C']['active_inventory_cost'].sum()/new_df['active_inventory_cost'].sum())"
   ]
  },
  {
   "cell_type": "code",
   "execution_count": 23,
   "id": "1b65b73e",
   "metadata": {},
   "outputs": [
    {
     "name": "stdout",
     "output_type": "stream",
     "text": [
      "Class A Quantity: 0.3755181117687996\n",
      "Class B Quantity: 0.24956219907241114\n",
      "Class C Quantity: 0.3749196891587892\n"
     ]
    }
   ],
   "source": [
    "# Total quantity holding by each class\n",
    "print('Class A Quantity:',new_df[new_df['class']=='A']['Current Stock Quantity'].sum()/new_df['Current Stock Quantity'].sum())\n",
    "print('Class B Quantity:',new_df[new_df['class']=='B']['Current Stock Quantity'].sum()/new_df['Current Stock Quantity'].sum())\n",
    "print('Class C Quantity:',new_df[new_df['class']=='C']['Current Stock Quantity'].sum()/new_df['Current Stock Quantity'].sum())"
   ]
  },
  {
   "cell_type": "code",
   "execution_count": 24,
   "id": "18f0c437",
   "metadata": {},
   "outputs": [
    {
     "data": {
      "image/png": "[encoded data removed]",
      "text/plain": [
       "<Figure size 600x400 with 1 Axes>"
      ]
     },
     "metadata": {},
     "output_type": "display_data"
    }
   ],
   "source": [
    "x_port = new_df['cumulative_percentage'].tolist()\n",
    "y_port = np.arange(len(x_port))\n",
    "\n",
    "plt.figure(figsize=(6,4))\n",
    "plt.plot(y_port, x_port)\n",
    "plt.ylabel('Total Percentage')\n",
    "plt.title('ABC Analysis - Cumulative Cost per SKU')\n",
    "plt.grid(True)\n",
    "plt.show()"
   ]
  }
 ],
 "metadata": {
  "kernelspec": {
   "display_name": "Python 3 (ipykernel)",
   "language": "python",
   "name": "python3"
  },
  "language_info": {
   "codemirror_mode": {
    "name": "ipython",
    "version": 3
   },
   "file_extension": ".py",
   "mimetype": "text/x-python",
   "name": "python",
   "nbconvert_exporter": "python",
   "pygments_lexer": "ipython3",
   "version": "3.11.4"
  }
 },
 "nbformat": 4,
 "nbformat_minor": 5
}
